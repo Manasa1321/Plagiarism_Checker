{
 "cells": [
  {
   "cell_type": "markdown",
   "id": "ad3f555f",
   "metadata": {},
   "source": [
    "# Plagiarism Checker"
   ]
  },
  {
   "cell_type": "code",
   "execution_count": 1,
   "id": "767b002f",
   "metadata": {},
   "outputs": [
    {
     "name": "stdout",
     "output_type": "stream",
     "text": [
      "Requirement already satisfied: nltk in c:\\users\\manas\\anaconda3\\lib\\site-packages (3.8.1)\n",
      "Requirement already satisfied: click in c:\\users\\manas\\anaconda3\\lib\\site-packages (from nltk) (8.0.4)\n",
      "Requirement already satisfied: joblib in c:\\users\\manas\\anaconda3\\lib\\site-packages (from nltk) (1.2.0)\n",
      "Requirement already satisfied: regex>=2021.8.3 in c:\\users\\manas\\anaconda3\\lib\\site-packages (from nltk) (2022.7.9)\n",
      "Requirement already satisfied: tqdm in c:\\users\\manas\\anaconda3\\lib\\site-packages (from nltk) (4.65.0)\n",
      "Requirement already satisfied: colorama in c:\\users\\manas\\anaconda3\\lib\\site-packages (from click->nltk) (0.4.6)\n",
      "Note: you may need to restart the kernel to use updated packages.\n"
     ]
    }
   ],
   "source": [
    "pip install nltk"
   ]
  },
  {
   "cell_type": "markdown",
   "id": "a7fdb409",
   "metadata": {},
   "source": [
    "### import libraries"
   ]
  },
  {
   "cell_type": "code",
   "execution_count": 7,
   "id": "93532c01",
   "metadata": {},
   "outputs": [
    {
     "name": "stderr",
     "output_type": "stream",
     "text": [
      "[nltk_data] Downloading package punkt to\n",
      "[nltk_data]     C:\\Users\\manas\\AppData\\Roaming\\nltk_data...\n",
      "[nltk_data]   Package punkt is already up-to-date!\n",
      "[nltk_data] Downloading package stopwords to\n",
      "[nltk_data]     C:\\Users\\manas\\AppData\\Roaming\\nltk_data...\n",
      "[nltk_data]   Package stopwords is already up-to-date!\n"
     ]
    },
    {
     "data": {
      "text/plain": [
       "True"
      ]
     },
     "execution_count": 7,
     "metadata": {},
     "output_type": "execute_result"
    }
   ],
   "source": [
    "import nltk\n",
    "from nltk.tokenize import word_tokenize\n",
    "from nltk.corpus import stopwords\n",
    "from sklearn.feature_extraction.text import TfidfVectorizer\n",
    "from sklearn.metrics.pairwise import cosine_similarity\n",
    "\n",
    "nltk.download('punkt')\n",
    "nltk.download('stopwords')"
   ]
  },
  {
   "cell_type": "markdown",
   "id": "b1e03614",
   "metadata": {},
   "source": [
    "### Defining a function to preprocess and tokenize the text\n"
   ]
  },
  {
   "cell_type": "code",
   "execution_count": 8,
   "id": "dff6512f",
   "metadata": {},
   "outputs": [],
   "source": [
    "def preprocess_text(text):\n",
    "    # Tokenize the text\n",
    "    tokens = word_tokenize(text)\n",
    "    \n",
    "    # Remove stopwords and punctuation\n",
    "    stop_words = set(stopwords.words('english'))\n",
    "    filtered_tokens = [word.lower() for word in tokens if word.isalnum() and word.lower() not in stop_words]\n",
    "    \n",
    "    return \" \".join(filtered_tokens)"
   ]
  },
  {
   "cell_type": "markdown",
   "id": "76e3e942",
   "metadata": {},
   "source": [
    "### Define a function to check plagiarism"
   ]
  },
  {
   "cell_type": "code",
   "execution_count": 9,
   "id": "d157cd62",
   "metadata": {},
   "outputs": [],
   "source": [
    "def check_plagiarism(text1, text2):\n",
    "    # Preprocess the text\n",
    "    text1 = preprocess_text(text1)\n",
    "    text2 = preprocess_text(text2)\n",
    "    \n",
    "    # Create TF-IDF vectors for the two texts\n",
    "    tfidf_vectorizer = TfidfVectorizer()\n",
    "    tfidf_matrix = tfidf_vectorizer.fit_transform([text1, text2])\n",
    "    \n",
    "    # Calculate cosine similarity\n",
    "    cosine_sim = cosine_similarity(tfidf_matrix[0], tfidf_matrix[1])[0][0]\n",
    "    \n",
    "    return cosine_sim"
   ]
  },
  {
   "cell_type": "markdown",
   "id": "7e621f32",
   "metadata": {},
   "source": [
    "### Example - 1\n"
   ]
  },
  {
   "cell_type": "code",
   "execution_count": 10,
   "id": "029fd16a",
   "metadata": {},
   "outputs": [
    {
     "name": "stdout",
     "output_type": "stream",
     "text": [
      "Cosine Similarity: 0.71\n"
     ]
    }
   ],
   "source": [
    "text1 = \"This is an example sentence.\"\n",
    "text2 = \"This is another example sentence.\"\n",
    "\n",
    "similarity = check_plagiarism(text1, text2)\n",
    "print(f\"Cosine Similarity: {similarity:.2f}\")"
   ]
  },
  {
   "cell_type": "markdown",
   "id": "96392617",
   "metadata": {},
   "source": [
    "### importing libraries"
   ]
  },
  {
   "cell_type": "code",
   "execution_count": 12,
   "id": "fc58ccfb",
   "metadata": {},
   "outputs": [
    {
     "name": "stderr",
     "output_type": "stream",
     "text": [
      "[nltk_data] Downloading package punkt to\n",
      "[nltk_data]     C:\\Users\\manas\\AppData\\Roaming\\nltk_data...\n",
      "[nltk_data]   Package punkt is already up-to-date!\n",
      "[nltk_data] Downloading package stopwords to\n",
      "[nltk_data]     C:\\Users\\manas\\AppData\\Roaming\\nltk_data...\n",
      "[nltk_data]   Package stopwords is already up-to-date!\n"
     ]
    },
    {
     "data": {
      "text/plain": [
       "True"
      ]
     },
     "execution_count": 12,
     "metadata": {},
     "output_type": "execute_result"
    }
   ],
   "source": [
    "import nltk\n",
    "from nltk.tokenize import word_tokenize\n",
    "from nltk.corpus import stopwords\n",
    "from sklearn.feature_extraction.text import TfidfVectorizer\n",
    "from sklearn.metrics.pairwise import cosine_similarity\n",
    "\n",
    "nltk.download('punkt')\n",
    "nltk.download('stopwords')"
   ]
  },
  {
   "cell_type": "markdown",
   "id": "8a5ec3b2",
   "metadata": {},
   "source": [
    "### Defining a function to preprocess and tokenize the text\n"
   ]
  },
  {
   "cell_type": "code",
   "execution_count": 13,
   "id": "d158c8a8",
   "metadata": {},
   "outputs": [],
   "source": [
    "def preprocess_text(text):\n",
    "    # Tokenize the text\n",
    "    tokens = word_tokenize(text)\n",
    "    \n",
    "    # Remove stopwords and punctuation\n",
    "    stop_words = set(stopwords.words('english'))\n",
    "    filtered_tokens = [word.lower() for word in tokens if word.isalnum() and word.lower() not in stop_words]\n",
    "    \n",
    "    return \" \".join(filtered_tokens)"
   ]
  },
  {
   "cell_type": "markdown",
   "id": "5876eac2",
   "metadata": {},
   "source": [
    "### Define a function to check plagiarism"
   ]
  },
  {
   "cell_type": "code",
   "execution_count": 14,
   "id": "915aae2f",
   "metadata": {},
   "outputs": [],
   "source": [
    "def check_plagiarism(text1, text2):\n",
    "    # Preprocess the text\n",
    "    text1 = preprocess_text(text1)\n",
    "    text2 = preprocess_text(text2)\n",
    "    \n",
    "    # Create TF-IDF vectors for the two texts\n",
    "    tfidf_vectorizer = TfidfVectorizer()\n",
    "    tfidf_matrix = tfidf_vectorizer.fit_transform([text1, text2])\n",
    "    \n",
    "    # Calculate cosine similarity\n",
    "    cosine_sim = cosine_similarity(tfidf_matrix[0], tfidf_matrix[1])[0][0]\n",
    "    \n",
    "    return cosine_sim"
   ]
  },
  {
   "cell_type": "markdown",
   "id": "685bb5e2",
   "metadata": {},
   "source": [
    "### Example - 2"
   ]
  },
  {
   "cell_type": "code",
   "execution_count": 15,
   "id": "7e4e9307",
   "metadata": {},
   "outputs": [
    {
     "name": "stdout",
     "output_type": "stream",
     "text": [
      "Cosine Similarity: 0.00\n"
     ]
    }
   ],
   "source": [
    "text1 = \"Hai This is Rishi.\"\n",
    "text2 = \"Welcome to my world.\"\n",
    "\n",
    "similarity = check_plagiarism(text1, text2)\n",
    "print(f\"Cosine Similarity: {similarity:.2f}\")"
   ]
  },
  {
   "cell_type": "markdown",
   "id": "79f834b4",
   "metadata": {},
   "source": [
    "### import libraries"
   ]
  },
  {
   "cell_type": "code",
   "execution_count": 16,
   "id": "74e64d1a",
   "metadata": {},
   "outputs": [
    {
     "name": "stderr",
     "output_type": "stream",
     "text": [
      "[nltk_data] Downloading package punkt to\n",
      "[nltk_data]     C:\\Users\\manas\\AppData\\Roaming\\nltk_data...\n",
      "[nltk_data]   Package punkt is already up-to-date!\n",
      "[nltk_data] Downloading package stopwords to\n",
      "[nltk_data]     C:\\Users\\manas\\AppData\\Roaming\\nltk_data...\n",
      "[nltk_data]   Package stopwords is already up-to-date!\n"
     ]
    },
    {
     "data": {
      "text/plain": [
       "True"
      ]
     },
     "execution_count": 16,
     "metadata": {},
     "output_type": "execute_result"
    }
   ],
   "source": [
    "import nltk\n",
    "from nltk.tokenize import word_tokenize\n",
    "from nltk.corpus import stopwords\n",
    "from sklearn.feature_extraction.text import TfidfVectorizer\n",
    "from sklearn.metrics.pairwise import cosine_similarity\n",
    "\n",
    "nltk.download('punkt')\n",
    "nltk.download('stopwords')"
   ]
  },
  {
   "cell_type": "markdown",
   "id": "cdb4d119",
   "metadata": {},
   "source": [
    "### Define a function to preprocess and tokenize the text"
   ]
  },
  {
   "cell_type": "code",
   "execution_count": 17,
   "id": "c0cac86c",
   "metadata": {},
   "outputs": [],
   "source": [
    "def preprocess_text(text):\n",
    "    # Tokenize the text\n",
    "    tokens = word_tokenize(text)\n",
    "    \n",
    "    # Remove stopwords and punctuation\n",
    "    stop_words = set(stopwords.words('english'))\n",
    "    filtered_tokens = [word.lower() for word in tokens if word.isalnum() and word.lower() not in stop_words]\n",
    "    \n",
    "    return \" \".join(filtered_tokens)"
   ]
  },
  {
   "cell_type": "markdown",
   "id": "8a5ce3b8",
   "metadata": {},
   "source": [
    "### Define a function to check plagiarism"
   ]
  },
  {
   "cell_type": "code",
   "execution_count": 42,
   "id": "030c608d",
   "metadata": {},
   "outputs": [],
   "source": [
    "def check_plagiarism(text1, text2, text3):\n",
    "    # Preprocess the text\n",
    "    text1 = preprocess_text(text1)\n",
    "    text2 = preprocess_text(text2)\n",
    "    text3 = preprocess_text(text3)\n",
    "    \n",
    "    # Create TF-IDF vectors for the two texts\n",
    "    tfidf_vectorizer = TfidfVectorizer()\n",
    "    tfidf_matrix = tfidf_vectorizer.fit_transform([text1, text2, text3])\n",
    "    \n",
    "    # Calculate cosine similarity\n",
    "    cosine_sim = cosine_similarity(tfidf_matrix[0], tfidf_matrix[1])[0][0]\n",
    "    \n",
    "    return cosine_sim"
   ]
  },
  {
   "cell_type": "markdown",
   "id": "f0ee85ce",
   "metadata": {},
   "source": [
    "### Example - 3"
   ]
  },
  {
   "cell_type": "code",
   "execution_count": 43,
   "id": "f88627d0",
   "metadata": {},
   "outputs": [
    {
     "name": "stdout",
     "output_type": "stream",
     "text": [
      "Cosine Similarity: 1.00\n"
     ]
    }
   ],
   "source": [
    "text1 = \"This is Jupyter Notebook.\"\n",
    "text2 = \"This is Jupyter Notebook.\"\n",
    "text3 = \"This is Jupyter Notebook.\"\n",
    "\n",
    "similarity = check_plagiarism(text1, text2, text3)\n",
    "print(f\"Cosine Similarity: {similarity:.2f}\")"
   ]
  }
 ],
 "metadata": {
  "kernelspec": {
   "display_name": "Python 3 (ipykernel)",
   "language": "python",
   "name": "python3"
  },
  "language_info": {
   "codemirror_mode": {
    "name": "ipython",
    "version": 3
   },
   "file_extension": ".py",
   "mimetype": "text/x-python",
   "name": "python",
   "nbconvert_exporter": "python",
   "pygments_lexer": "ipython3",
   "version": "3.11.4"
  }
 },
 "nbformat": 4,
 "nbformat_minor": 5
}
